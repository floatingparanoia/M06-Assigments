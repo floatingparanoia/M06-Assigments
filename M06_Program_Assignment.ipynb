{
 "cells": [
  {
   "cell_type": "markdown",
   "id": "890df899-78bf-4afb-bdc3-422df8d8c8b1",
   "metadata": {},
   "source": [
    "-13.1-"
   ]
  },
  {
   "cell_type": "code",
   "execution_count": 2,
   "id": "742e2abf-850a-4c18-8a15-4a4c1be8e9b9",
   "metadata": {},
   "outputs": [],
   "source": [
    "from datetime import date\n",
    "current_date = date.today().strftime('%Y-%m-%d')\n",
    "\n",
    "with open(\"today.txt\", \"w\") as file:\n",
    "    file.write(current_date)"
   ]
  },
  {
   "cell_type": "markdown",
   "id": "b042ecb9-07e5-487d-b11e-950794131155",
   "metadata": {},
   "source": [
    "-13.2-"
   ]
  },
  {
   "cell_type": "code",
   "execution_count": 4,
   "id": "81ae9743-b95a-4acf-8cb0-32b0ee05100a",
   "metadata": {},
   "outputs": [
    {
     "name": "stdout",
     "output_type": "stream",
     "text": [
      "2024-09-24\n"
     ]
    }
   ],
   "source": [
    "with open(\"today.txt\", \"r\") as file:\n",
    "    today_string = file.read()\n",
    "\n",
    "print(today_string)"
   ]
  },
  {
   "cell_type": "markdown",
   "id": "6e422460-02fb-440d-90a2-f85c2cd8f68b",
   "metadata": {},
   "source": [
    "-13.3-"
   ]
  },
  {
   "cell_type": "code",
   "execution_count": 6,
   "id": "2727b360-acc4-491b-9c6f-6ee7137087d0",
   "metadata": {},
   "outputs": [
    {
     "name": "stdout",
     "output_type": "stream",
     "text": [
      "2024-09-24 00:00:00\n"
     ]
    }
   ],
   "source": [
    "from datetime import datetime\n",
    "\n",
    "fmt = \"%Y-%m-%d\"\n",
    "parsed_date = datetime.strptime(today_string, fmt)\n",
    "\n",
    "print(parsed_date)\n",
    "\n"
   ]
  },
  {
   "cell_type": "code",
   "execution_count": null,
   "id": "02328396-0928-4898-8bf3-75130ba2f453",
   "metadata": {},
   "outputs": [],
   "source": []
  }
 ],
 "metadata": {
  "kernelspec": {
   "display_name": "Python 3 (ipykernel)",
   "language": "python",
   "name": "python3"
  },
  "language_info": {
   "codemirror_mode": {
    "name": "ipython",
    "version": 3
   },
   "file_extension": ".py",
   "mimetype": "text/x-python",
   "name": "python",
   "nbconvert_exporter": "python",
   "pygments_lexer": "ipython3",
   "version": "3.12.4"
  }
 },
 "nbformat": 4,
 "nbformat_minor": 5
}
